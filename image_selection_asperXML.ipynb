{
 "cells": [
  {
   "cell_type": "code",
   "execution_count": 52,
   "metadata": {},
   "outputs": [],
   "source": [
    "import pandas as pd\n",
    "import numpy as np\n",
    "import shutil\n",
    "import glob\n",
    "import os"
   ]
  },
  {
   "cell_type": "code",
   "execution_count": 53,
   "metadata": {},
   "outputs": [],
   "source": [
    "df = pd.read_csv('Processed_XML.csv')"
   ]
  },
  {
   "cell_type": "code",
   "execution_count": 54,
   "metadata": {},
   "outputs": [
    {
     "data": {
      "text/plain": [
       "Index(['ID', 'Comparison', 'Indication', 'Findings', 'Impression', 'Mesh',\n",
       "       'Image', 'View', 'Sex'],\n",
       "      dtype='object')"
      ]
     },
     "execution_count": 54,
     "metadata": {},
     "output_type": "execute_result"
    }
   ],
   "source": [
    "df.columns"
   ]
  },
  {
   "cell_type": "code",
   "execution_count": 55,
   "metadata": {},
   "outputs": [
    {
     "data": {
      "text/plain": [
       "(6645, 9)"
      ]
     },
     "execution_count": 55,
     "metadata": {},
     "output_type": "execute_result"
    }
   ],
   "source": [
    "df.shape"
   ]
  },
  {
   "cell_type": "code",
   "execution_count": 57,
   "metadata": {},
   "outputs": [],
   "source": [
    "df.replace(np.nan, \" \", inplace=True)\n",
    "df.replace('nan',\" \",inplace=True)"
   ]
  },
  {
   "cell_type": "code",
   "execution_count": 58,
   "metadata": {},
   "outputs": [
    {
     "data": {
      "text/html": [
       "<div>\n",
       "<style scoped>\n",
       "    .dataframe tbody tr th:only-of-type {\n",
       "        vertical-align: middle;\n",
       "    }\n",
       "\n",
       "    .dataframe tbody tr th {\n",
       "        vertical-align: top;\n",
       "    }\n",
       "\n",
       "    .dataframe thead th {\n",
       "        text-align: right;\n",
       "    }\n",
       "</style>\n",
       "<table border=\"1\" class=\"dataframe\">\n",
       "  <thead>\n",
       "    <tr style=\"text-align: right;\">\n",
       "      <th></th>\n",
       "      <th>ID</th>\n",
       "      <th>Comparison</th>\n",
       "      <th>Indication</th>\n",
       "      <th>Findings</th>\n",
       "      <th>Impression</th>\n",
       "      <th>Mesh</th>\n",
       "      <th>Image</th>\n",
       "      <th>View</th>\n",
       "      <th>Sex</th>\n",
       "    </tr>\n",
       "  </thead>\n",
       "  <tbody>\n",
       "    <tr>\n",
       "      <th>0</th>\n",
       "      <td>CXR1</td>\n",
       "      <td></td>\n",
       "      <td>positive tb test</td>\n",
       "      <td>the cardiac silhouette and mediastinum size ar...</td>\n",
       "      <td>normal chest x</td>\n",
       "      <td>normal</td>\n",
       "      <td>CXR1_1_IM-0001-3001.png</td>\n",
       "      <td>1</td>\n",
       "      <td></td>\n",
       "    </tr>\n",
       "    <tr>\n",
       "      <th>1</th>\n",
       "      <td>CXR1</td>\n",
       "      <td></td>\n",
       "      <td>positive tb test</td>\n",
       "      <td>the cardiac silhouette and mediastinum size ar...</td>\n",
       "      <td>normal chest x</td>\n",
       "      <td>normal</td>\n",
       "      <td>CXR1_1_IM-0001-4001.png</td>\n",
       "      <td>0</td>\n",
       "      <td></td>\n",
       "    </tr>\n",
       "    <tr>\n",
       "      <th>2</th>\n",
       "      <td>CXR10</td>\n",
       "      <td>chest radiograph</td>\n",
       "      <td>chest pain</td>\n",
       "      <td>the cardiomediastinal silhouette is within nor...</td>\n",
       "      <td>no acute cardiopulmonary process</td>\n",
       "      <td>calcified granuloma_lung_upper lobe_right,calc...</td>\n",
       "      <td>CXR10_IM-0002-1001.png</td>\n",
       "      <td>0</td>\n",
       "      <td>male</td>\n",
       "    </tr>\n",
       "    <tr>\n",
       "      <th>3</th>\n",
       "      <td>CXR10</td>\n",
       "      <td>chest radiograph</td>\n",
       "      <td>chest pain</td>\n",
       "      <td>the cardiomediastinal silhouette is within nor...</td>\n",
       "      <td>no acute cardiopulmonary process</td>\n",
       "      <td>calcified granuloma_lung_upper lobe_right,calc...</td>\n",
       "      <td>CXR10_IM-0002-2001.png</td>\n",
       "      <td>0</td>\n",
       "      <td>male</td>\n",
       "    </tr>\n",
       "    <tr>\n",
       "      <th>4</th>\n",
       "      <td>CXR1001</td>\n",
       "      <td></td>\n",
       "      <td>dyspnea, subjective fevers, arthritis, immigra...</td>\n",
       "      <td>interstitial markings are diffusely prominent ...</td>\n",
       "      <td>diffuse fibrosis. no visible focal acute disease</td>\n",
       "      <td>markings_lung_bilateral_interstitial_diffuse_p...</td>\n",
       "      <td>CXR1001_IM-0004-1001.png</td>\n",
       "      <td>0</td>\n",
       "      <td></td>\n",
       "    </tr>\n",
       "  </tbody>\n",
       "</table>\n",
       "</div>"
      ],
      "text/plain": [
       "        ID        Comparison  \\\n",
       "0     CXR1                     \n",
       "1     CXR1                     \n",
       "2    CXR10  chest radiograph   \n",
       "3    CXR10  chest radiograph   \n",
       "4  CXR1001                     \n",
       "\n",
       "                                          Indication  \\\n",
       "0                                   positive tb test   \n",
       "1                                   positive tb test   \n",
       "2                                         chest pain   \n",
       "3                                         chest pain   \n",
       "4  dyspnea, subjective fevers, arthritis, immigra...   \n",
       "\n",
       "                                            Findings  \\\n",
       "0  the cardiac silhouette and mediastinum size ar...   \n",
       "1  the cardiac silhouette and mediastinum size ar...   \n",
       "2  the cardiomediastinal silhouette is within nor...   \n",
       "3  the cardiomediastinal silhouette is within nor...   \n",
       "4  interstitial markings are diffusely prominent ...   \n",
       "\n",
       "                                         Impression  \\\n",
       "0                                    normal chest x   \n",
       "1                                    normal chest x   \n",
       "2                  no acute cardiopulmonary process   \n",
       "3                  no acute cardiopulmonary process   \n",
       "4  diffuse fibrosis. no visible focal acute disease   \n",
       "\n",
       "                                                Mesh  \\\n",
       "0                                             normal   \n",
       "1                                             normal   \n",
       "2  calcified granuloma_lung_upper lobe_right,calc...   \n",
       "3  calcified granuloma_lung_upper lobe_right,calc...   \n",
       "4  markings_lung_bilateral_interstitial_diffuse_p...   \n",
       "\n",
       "                      Image View   Sex  \n",
       "0   CXR1_1_IM-0001-3001.png    1        \n",
       "1   CXR1_1_IM-0001-4001.png    0        \n",
       "2    CXR10_IM-0002-1001.png    0  male  \n",
       "3    CXR10_IM-0002-2001.png    0  male  \n",
       "4  CXR1001_IM-0004-1001.png    0        "
      ]
     },
     "execution_count": 58,
     "metadata": {},
     "output_type": "execute_result"
    }
   ],
   "source": [
    "df.head(5)"
   ]
  },
  {
   "cell_type": "code",
   "execution_count": 59,
   "metadata": {},
   "outputs": [],
   "source": [
    "df_pa = df[(df.View == 0.0)]\n",
    "df_la = df[(df.View == 1.0 )]"
   ]
  },
  {
   "cell_type": "code",
   "execution_count": 60,
   "metadata": {},
   "outputs": [
    {
     "data": {
      "text/html": [
       "<div>\n",
       "<style scoped>\n",
       "    .dataframe tbody tr th:only-of-type {\n",
       "        vertical-align: middle;\n",
       "    }\n",
       "\n",
       "    .dataframe tbody tr th {\n",
       "        vertical-align: top;\n",
       "    }\n",
       "\n",
       "    .dataframe thead th {\n",
       "        text-align: right;\n",
       "    }\n",
       "</style>\n",
       "<table border=\"1\" class=\"dataframe\">\n",
       "  <thead>\n",
       "    <tr style=\"text-align: right;\">\n",
       "      <th></th>\n",
       "      <th>ID</th>\n",
       "      <th>Comparison</th>\n",
       "      <th>Indication</th>\n",
       "      <th>Findings</th>\n",
       "      <th>Impression</th>\n",
       "      <th>Mesh</th>\n",
       "      <th>Image</th>\n",
       "      <th>View</th>\n",
       "      <th>Sex</th>\n",
       "    </tr>\n",
       "  </thead>\n",
       "  <tbody>\n",
       "    <tr>\n",
       "      <th>1</th>\n",
       "      <td>CXR1</td>\n",
       "      <td></td>\n",
       "      <td>positive tb test</td>\n",
       "      <td>the cardiac silhouette and mediastinum size ar...</td>\n",
       "      <td>normal chest x</td>\n",
       "      <td>normal</td>\n",
       "      <td>CXR1_1_IM-0001-4001.png</td>\n",
       "      <td>0</td>\n",
       "      <td></td>\n",
       "    </tr>\n",
       "    <tr>\n",
       "      <th>2</th>\n",
       "      <td>CXR10</td>\n",
       "      <td>chest radiograph</td>\n",
       "      <td>chest pain</td>\n",
       "      <td>the cardiomediastinal silhouette is within nor...</td>\n",
       "      <td>no acute cardiopulmonary process</td>\n",
       "      <td>calcified granuloma_lung_upper lobe_right,calc...</td>\n",
       "      <td>CXR10_IM-0002-1001.png</td>\n",
       "      <td>0</td>\n",
       "      <td>male</td>\n",
       "    </tr>\n",
       "    <tr>\n",
       "      <th>3</th>\n",
       "      <td>CXR10</td>\n",
       "      <td>chest radiograph</td>\n",
       "      <td>chest pain</td>\n",
       "      <td>the cardiomediastinal silhouette is within nor...</td>\n",
       "      <td>no acute cardiopulmonary process</td>\n",
       "      <td>calcified granuloma_lung_upper lobe_right,calc...</td>\n",
       "      <td>CXR10_IM-0002-2001.png</td>\n",
       "      <td>0</td>\n",
       "      <td>male</td>\n",
       "    </tr>\n",
       "  </tbody>\n",
       "</table>\n",
       "</div>"
      ],
      "text/plain": [
       "      ID        Comparison        Indication  \\\n",
       "1   CXR1                    positive tb test   \n",
       "2  CXR10  chest radiograph        chest pain   \n",
       "3  CXR10  chest radiograph        chest pain   \n",
       "\n",
       "                                            Findings  \\\n",
       "1  the cardiac silhouette and mediastinum size ar...   \n",
       "2  the cardiomediastinal silhouette is within nor...   \n",
       "3  the cardiomediastinal silhouette is within nor...   \n",
       "\n",
       "                         Impression  \\\n",
       "1                    normal chest x   \n",
       "2  no acute cardiopulmonary process   \n",
       "3  no acute cardiopulmonary process   \n",
       "\n",
       "                                                Mesh                    Image  \\\n",
       "1                                             normal  CXR1_1_IM-0001-4001.png   \n",
       "2  calcified granuloma_lung_upper lobe_right,calc...   CXR10_IM-0002-1001.png   \n",
       "3  calcified granuloma_lung_upper lobe_right,calc...   CXR10_IM-0002-2001.png   \n",
       "\n",
       "  View   Sex  \n",
       "1    0        \n",
       "2    0  male  \n",
       "3    0  male  "
      ]
     },
     "execution_count": 60,
     "metadata": {},
     "output_type": "execute_result"
    }
   ],
   "source": [
    "df_pa.head(3)"
   ]
  },
  {
   "cell_type": "code",
   "execution_count": 61,
   "metadata": {},
   "outputs": [
    {
     "name": "stdout",
     "output_type": "stream",
     "text": [
      "<class 'pandas.core.frame.DataFrame'>\n",
      "Int64Index: 3259 entries, 1 to 6637\n",
      "Data columns (total 9 columns):\n",
      " #   Column      Non-Null Count  Dtype \n",
      "---  ------      --------------  ----- \n",
      " 0   ID          3259 non-null   object\n",
      " 1   Comparison  3259 non-null   object\n",
      " 2   Indication  3259 non-null   object\n",
      " 3   Findings    3259 non-null   object\n",
      " 4   Impression  3259 non-null   object\n",
      " 5   Mesh        3259 non-null   object\n",
      " 6   Image       3259 non-null   object\n",
      " 7   View        3259 non-null   object\n",
      " 8   Sex         3259 non-null   object\n",
      "dtypes: object(9)\n",
      "memory usage: 254.6+ KB\n"
     ]
    }
   ],
   "source": [
    "df_pa.info()"
   ]
  },
  {
   "cell_type": "code",
   "execution_count": 62,
   "metadata": {},
   "outputs": [],
   "source": [
    "paimagelist = list(df_pa.Image.values)"
   ]
  },
  {
   "cell_type": "code",
   "execution_count": 63,
   "metadata": {},
   "outputs": [
    {
     "name": "stdout",
     "output_type": "stream",
     "text": [
      "3259\n"
     ]
    }
   ],
   "source": [
    "print(len(paimagelist))"
   ]
  },
  {
   "cell_type": "code",
   "execution_count": 64,
   "metadata": {},
   "outputs": [],
   "source": [
    "spath = 'G:\\\\acra\\\\NLMCXR_png\\\\'\n",
    "tpath = 'G:\\\\acra\\\\imagesource\\\\'"
   ]
  },
  {
   "cell_type": "code",
   "execution_count": 65,
   "metadata": {},
   "outputs": [],
   "source": [
    "for pngfile in paimagelist:\n",
    "    shutil.copy(spath+pngfile, tpath)"
   ]
  },
  {
   "cell_type": "code",
   "execution_count": 66,
   "metadata": {},
   "outputs": [],
   "source": [
    "df_pa.to_csv('padataset.csv',index=None)"
   ]
  },
  {
   "cell_type": "code",
   "execution_count": null,
   "metadata": {},
   "outputs": [],
   "source": []
  }
 ],
 "metadata": {
  "kernelspec": {
   "display_name": "Python 3",
   "language": "python",
   "name": "python3"
  },
  "language_info": {
   "codemirror_mode": {
    "name": "ipython",
    "version": 3
   },
   "file_extension": ".py",
   "mimetype": "text/x-python",
   "name": "python",
   "nbconvert_exporter": "python",
   "pygments_lexer": "ipython3",
   "version": "3.7.6"
  }
 },
 "nbformat": 4,
 "nbformat_minor": 4
}
